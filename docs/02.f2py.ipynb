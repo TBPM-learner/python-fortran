{
 "cells": [
  {
   "cell_type": "markdown",
   "metadata": {},
   "source": [
    "# Python class linked with fortran module"
   ]
  },
  {
   "cell_type": "code",
   "execution_count": 1,
   "metadata": {},
   "outputs": [
    {
     "data": {
      "application/javascript": [
       "new Promise(function(resolve, reject) {\n",
       "\tvar script = document.createElement(\"script\");\n",
       "\tscript.onload = resolve;\n",
       "\tscript.onerror = reject;\n",
       "\tscript.src = \"https://raw.github.com/marijnh/CodeMirror/master/mode/fortran/fortran.js\";\n",
       "\tdocument.head.appendChild(script);\n",
       "}).then(() => {\n",
       "IPython.config.cell_magic_highlight['magic_fortran'] = {'reg':[/^%%fortran/]};\n",
       "});"
      ]
     },
     "metadata": {},
     "output_type": "display_data"
    }
   ],
   "source": [
    "%load_ext fortranmagic"
   ]
  },
  {
   "cell_type": "code",
   "execution_count": 2,
   "metadata": {},
   "outputs": [],
   "source": [
    "%%fortran\n",
    "module particles_f90\n",
    "\n",
    "    implicit none\n",
    "    \n",
    "    real(8), dimension(:), allocatable :: positions\n",
    "    real(8), dimension(:), allocatable :: velocities\n",
    "            \n",
    "contains\n",
    "    subroutine init_particles( n )\n",
    "    \n",
    "        integer, intent(in) :: n\n",
    "                \n",
    "        integer :: i\n",
    "        \n",
    "        if (.not. allocated(positions)) then\n",
    "            allocate(positions(n))\n",
    "        end if\n",
    "        positions = [(i, i = 1, n, 1)]\n",
    "        if (.not. allocated(velocities)) then\n",
    "            allocate(velocities(n))\n",
    "        end if\n",
    "        velocities = 1.0\n",
    "\n",
    "    end subroutine init_particles\n",
    " \n",
    "    subroutine push_particles( dt )\n",
    "        \n",
    "        real(8), intent(in) :: dt\n",
    "    \n",
    "        positions = positions + dt * velocities\n",
    "        \n",
    "    end subroutine push_particles\n",
    "end module particles_f90"
   ]
  },
  {
   "cell_type": "markdown",
   "metadata": {},
   "source": [
    "# The Python class"
   ]
  },
  {
   "cell_type": "code",
   "execution_count": 3,
   "metadata": {},
   "outputs": [],
   "source": [
    "class Particles(object):\n",
    "    \n",
    "    def __init__(self, n):\n",
    "        self.index       = 0\n",
    "        self.numberof    = n\n",
    "        particles_f90.init_particles( n)\n",
    "        self.positions  = particles_f90.positions\n",
    "        self.velocities = particles_f90.velocities\n",
    "        \n",
    "    @property \n",
    "    def position(self):      \n",
    "        return self.positions[self.index]\n",
    "    \n",
    "    @property \n",
    "    def velocity(self):      \n",
    "        return self.velocities[self.index]"
   ]
  },
  {
   "cell_type": "markdown",
   "metadata": {},
   "source": [
    "# Access to Fortran data from Python"
   ]
  },
  {
   "cell_type": "code",
   "execution_count": 4,
   "metadata": {},
   "outputs": [
    {
     "data": {
      "text/plain": [
       "array([1., 1., 1., 1., 1., 1., 1., 1., 1., 1.])"
      ]
     },
     "execution_count": 4,
     "metadata": {},
     "output_type": "execute_result"
    }
   ],
   "source": [
    "particles = Particles(10)\n",
    "particles.velocities "
   ]
  },
  {
   "cell_type": "code",
   "execution_count": 5,
   "metadata": {},
   "outputs": [
    {
     "data": {
      "text/plain": [
       "array([ 1.,  2.,  3.,  4.,  5.,  6.,  7.,  8.,  9., 10.])"
      ]
     },
     "execution_count": 5,
     "metadata": {},
     "output_type": "execute_result"
    }
   ],
   "source": [
    "particles.positions"
   ]
  },
  {
   "cell_type": "code",
   "execution_count": 6,
   "metadata": {},
   "outputs": [
    {
     "data": {
      "text/plain": [
       "1.0"
      ]
     },
     "execution_count": 6,
     "metadata": {},
     "output_type": "execute_result"
    }
   ],
   "source": [
    "particles.index = 0\n",
    "particles.position"
   ]
  },
  {
   "cell_type": "code",
   "execution_count": 7,
   "metadata": {},
   "outputs": [
    {
     "data": {
      "text/plain": [
       "2.0"
      ]
     },
     "execution_count": 7,
     "metadata": {},
     "output_type": "execute_result"
    }
   ],
   "source": [
    "particles.index = 1\n",
    "particles.position"
   ]
  },
  {
   "cell_type": "markdown",
   "metadata": {},
   "source": [
    "# Create an Iterator class"
   ]
  },
  {
   "cell_type": "code",
   "execution_count": 8,
   "metadata": {},
   "outputs": [],
   "source": [
    "class ParticleArray(object):\n",
    "    \n",
    "    def __init__(self, particles):\n",
    "        self.particles = particles\n",
    "        self.numberof = particles.numberof\n",
    "        \n",
    "    def __getitem__(self, index): \n",
    "        self.particles.index = index \n",
    "        return self.particles\n",
    "    \n",
    "    def __len__(self): \n",
    "        return self.numberof\n",
    "    \n",
    "    def __iter__(self): \n",
    "        for i in range(self.numberof):\n",
    "            self.particles.index = i\n",
    "            yield self.particles"
   ]
  },
  {
   "cell_type": "code",
   "execution_count": null,
   "metadata": {},
   "outputs": [],
   "source": []
  },
  {
   "cell_type": "code",
   "execution_count": 9,
   "metadata": {},
   "outputs": [
    {
     "data": {
      "text/plain": [
       "1.0"
      ]
     },
     "execution_count": 9,
     "metadata": {},
     "output_type": "execute_result"
    }
   ],
   "source": [
    "particle_array = ParticleArray(particles)\n",
    "particle_array[0].position"
   ]
  },
  {
   "cell_type": "code",
   "execution_count": 10,
   "metadata": {
    "lines_to_next_cell": 2
   },
   "outputs": [
    {
     "name": "stdout",
     "output_type": "stream",
     "text": [
      "1.0\n",
      "2.0\n",
      "3.0\n",
      "4.0\n",
      "5.0\n",
      "6.0\n",
      "7.0\n",
      "8.0\n",
      "9.0\n",
      "10.0\n"
     ]
    }
   ],
   "source": [
    "for p in particle_array:\n",
    "    print(p.position)"
   ]
  },
  {
   "cell_type": "markdown",
   "metadata": {},
   "source": [
    "# Fortran derived type"
   ]
  },
  {
   "cell_type": "code",
   "execution_count": 11,
   "metadata": {
    "lines_to_end_of_cell_marker": 2
   },
   "outputs": [],
   "source": [
    "%%fortran\n",
    "module mesh\n",
    "\n",
    "implicit none\n",
    "type :: geometry\n",
    "    real(8) :: xmin, xmax, dx            ! coordinates of origin and grid size\n",
    "    integer :: nx                        ! number of grid points\n",
    "    real(8), dimension(:), pointer :: x  ! coordinates of points\n",
    "end type geometry\n",
    "\n",
    "contains\n",
    "\n",
    "subroutine create(geom, xmin, xmax, nx)\n",
    "\n",
    "    !f2py integer(8), intent(out) :: geom\n",
    "    type(geometry), pointer :: geom\n",
    "    real(8), intent(in) :: xmin, xmax\n",
    "    integer, intent(in) :: nx\n",
    "            \n",
    "    real(8) :: dx\n",
    "            \n",
    "    integer :: i\n",
    "            \n",
    "    allocate(geom)\n",
    "    geom%xmin = xmin\n",
    "    geom%xmax = xmax\n",
    "    geom%dx = ( xmax - xmin ) / (nx-1) \n",
    "    geom%nx = nx\n",
    "    allocate(geom%x(nx))\n",
    "    do i=1,nx\n",
    "        geom%x(i)=geom%xmin+(i-1)*geom%dx\n",
    "    end do\n",
    "\n",
    "end subroutine create\n",
    "\n",
    "subroutine view(geom)\n",
    "    !f2py integer(8), intent(in) :: geom\n",
    "    type(geometry), pointer :: geom\n",
    "    print*, 'nx = ', geom%nx\n",
    "    print*, geom%xmin, geom%xmax\n",
    "    print*, geom%x(:)\n",
    "end subroutine view\n",
    "\n",
    "subroutine get_size(geom, nx)\n",
    "\n",
    "    !f2py integer(8), intent(in) :: geom\n",
    "    type(geometry), pointer :: geom\n",
    "    integer, intent(out) :: nx\n",
    "    \n",
    "    nx = geom%nx\n",
    "    \n",
    "end subroutine get_size\n",
    "\n",
    "\n",
    "end module mesh"
   ]
  },
  {
   "cell_type": "code",
   "execution_count": 12,
   "metadata": {},
   "outputs": [],
   "source": [
    "geom = mesh.create(0.0, 1.0, 10)"
   ]
  },
  {
   "cell_type": "code",
   "execution_count": 13,
   "metadata": {},
   "outputs": [
    {
     "data": {
      "text/plain": [
       "10"
      ]
     },
     "execution_count": 13,
     "metadata": {},
     "output_type": "execute_result"
    }
   ],
   "source": [
    "mesh.get_size(geom)"
   ]
  },
  {
   "cell_type": "code",
   "execution_count": 14,
   "metadata": {},
   "outputs": [
    {
     "data": {
      "text/plain": [
       "int"
      ]
     },
     "execution_count": 14,
     "metadata": {},
     "output_type": "execute_result"
    }
   ],
   "source": [
    "type(geom)"
   ]
  },
  {
   "cell_type": "markdown",
   "metadata": {},
   "source": [
    "# f2py with C code\n",
    "\n",
    "- Signature file is mandatory\n",
    "- `intent(c)` must be used for all variables and can be set globally.\n",
    "- Function name is declared with `intent(c)`"
   ]
  },
  {
   "cell_type": "code",
   "execution_count": 15,
   "metadata": {},
   "outputs": [],
   "source": [
    "%rm -rf cfuncts*"
   ]
  },
  {
   "cell_type": "code",
   "execution_count": 16,
   "metadata": {
    "lines_to_next_cell": 2
   },
   "outputs": [
    {
     "name": "stdout",
     "output_type": "stream",
     "text": [
      "Writing cfuncts.c\n"
     ]
    }
   ],
   "source": [
    "%%file cfuncts.c\n",
    "\n",
    "void push_particles(double* positions, double* velocities, double dt, int n){\n",
    "    for (int i=0; i<n; i++){\n",
    "       positions[i] = positions[i] + dt * velocities[i];\n",
    "        \n",
    "    }\n",
    "} "
   ]
  },
  {
   "cell_type": "code",
   "execution_count": 17,
   "metadata": {},
   "outputs": [
    {
     "name": "stdout",
     "output_type": "stream",
     "text": [
      "Writing cfuncts.pyf\n"
     ]
    }
   ],
   "source": [
    "%%file cfuncts.pyf\n",
    "\n",
    "python module cfuncts \n",
    "    interface\n",
    "        subroutine push_particles(positions, velocities, dt, n) \n",
    "            intent(c):: push_particles\n",
    "            intent(c)\n",
    "            integer, optional, depend(velocities) :: n = len(velocities)\n",
    "            real(8), dimension(n),  intent(inplace)  :: positions \n",
    "            real(8), dimension(n),  intent(in) :: velocities\n",
    "            real(8), intent(in) :: dt\n",
    "        end subroutine push_particles\n",
    "    end interface\n",
    "end python module cfuncts"
   ]
  },
  {
   "cell_type": "code",
   "execution_count": 18,
   "metadata": {},
   "outputs": [
    {
     "name": "stdout",
     "output_type": "stream",
     "text": [
      "env: FC=gfortran\n",
      "env: CC=gcc-9\n",
      "\u001b[39mrunning build\u001b[0m\n",
      "\u001b[39mrunning config_cc\u001b[0m\n",
      "\u001b[39munifing config_cc, config, build_clib, build_ext, build commands --compiler options\u001b[0m\n",
      "\u001b[39mrunning config_fc\u001b[0m\n",
      "\u001b[39munifing config_fc, config, build_clib, build_ext, build commands --fcompiler options\u001b[0m\n",
      "\u001b[39mrunning build_src\u001b[0m\n",
      "\u001b[39mbuild_src\u001b[0m\n",
      "\u001b[39mbuilding extension \"cfuncts\" sources\u001b[0m\n",
      "\u001b[39mcreating /var/folders/mw/nwq5qyg56fl585pb9jw81_qc0000gn/T/tmpm79uzwsl/src.macosx-10.15-x86_64-3.7\u001b[0m\n",
      "\u001b[39mf2py options: []\u001b[0m\n",
      "\u001b[39mf2py: cfuncts.pyf\u001b[0m\n",
      "Reading fortran codes...\n",
      "\tReading file 'cfuncts.pyf' (format:free)\n",
      "Line #6 in cfuncts.pyf:\"            intent(c) \"\n",
      "\tAll arguments will have attribute intent(c)\n",
      "Post-processing...\n",
      "\tBlock: cfuncts\n",
      "\t\t\tBlock: push_particles\n",
      "Post-processing (stage 2)...\n",
      "Building modules...\n",
      "\tBuilding module \"cfuncts\"...\n",
      "\t\tConstructing wrapper function \"push_particles\"...\n",
      "\t\t  push_particles(positions,velocities,dt,[n])\n",
      "\tWrote C/API module \"cfuncts\" to file \"/var/folders/mw/nwq5qyg56fl585pb9jw81_qc0000gn/T/tmpm79uzwsl/src.macosx-10.15-x86_64-3.7/cfunctsmodule.c\"\n",
      "\u001b[39m  adding '/var/folders/mw/nwq5qyg56fl585pb9jw81_qc0000gn/T/tmpm79uzwsl/src.macosx-10.15-x86_64-3.7/fortranobject.c' to sources.\u001b[0m\n",
      "\u001b[39m  adding '/var/folders/mw/nwq5qyg56fl585pb9jw81_qc0000gn/T/tmpm79uzwsl/src.macosx-10.15-x86_64-3.7' to include_dirs.\u001b[0m\n",
      "\u001b[39mcopying /usr/local/lib/python3.7/site-packages/numpy/f2py/src/fortranobject.c -> /var/folders/mw/nwq5qyg56fl585pb9jw81_qc0000gn/T/tmpm79uzwsl/src.macosx-10.15-x86_64-3.7\u001b[0m\n",
      "\u001b[39mcopying /usr/local/lib/python3.7/site-packages/numpy/f2py/src/fortranobject.h -> /var/folders/mw/nwq5qyg56fl585pb9jw81_qc0000gn/T/tmpm79uzwsl/src.macosx-10.15-x86_64-3.7\u001b[0m\n",
      "\u001b[39mbuild_src: building npy-pkg config files\u001b[0m\n",
      "\u001b[39mrunning build_ext\u001b[0m\n",
      "\u001b[39mcustomize UnixCCompiler\u001b[0m\n",
      "\u001b[39mcustomize UnixCCompiler using build_ext\u001b[0m\n",
      "\u001b[39mbuilding 'cfuncts' extension\u001b[0m\n",
      "\u001b[39mcompiling C sources\u001b[0m\n",
      "\u001b[39mC compiler: gcc-9 -Wno-unused-result -Wsign-compare -Wunreachable-code -fno-common -dynamic -DNDEBUG -g -fwrapv -O3 -Wall -isysroot /Applications/Xcode.app/Contents/Developer/Platforms/MacOSX.platform/Developer/SDKs/MacOSX10.15.sdk -I/Applications/Xcode.app/Contents/Developer/Platforms/MacOSX.platform/Developer/SDKs/MacOSX10.15.sdk/usr/include -I/Applications/Xcode.app/Contents/Developer/Platforms/MacOSX.platform/Developer/SDKs/MacOSX10.15.sdk/System/Library/Frameworks/Tk.framework/Versions/8.5/Headers\n",
      "\u001b[0m\n",
      "\u001b[39mcreating /var/folders/mw/nwq5qyg56fl585pb9jw81_qc0000gn/T/tmpm79uzwsl/var\u001b[0m\n",
      "\u001b[39mcreating /var/folders/mw/nwq5qyg56fl585pb9jw81_qc0000gn/T/tmpm79uzwsl/var/folders\u001b[0m\n",
      "\u001b[39mcreating /var/folders/mw/nwq5qyg56fl585pb9jw81_qc0000gn/T/tmpm79uzwsl/var/folders/mw\u001b[0m\n",
      "\u001b[39mcreating /var/folders/mw/nwq5qyg56fl585pb9jw81_qc0000gn/T/tmpm79uzwsl/var/folders/mw/nwq5qyg56fl585pb9jw81_qc0000gn\u001b[0m\n",
      "\u001b[39mcreating /var/folders/mw/nwq5qyg56fl585pb9jw81_qc0000gn/T/tmpm79uzwsl/var/folders/mw/nwq5qyg56fl585pb9jw81_qc0000gn/T\u001b[0m\n",
      "\u001b[39mcreating /var/folders/mw/nwq5qyg56fl585pb9jw81_qc0000gn/T/tmpm79uzwsl/var/folders/mw/nwq5qyg56fl585pb9jw81_qc0000gn/T/tmpm79uzwsl\u001b[0m\n",
      "\u001b[39mcreating /var/folders/mw/nwq5qyg56fl585pb9jw81_qc0000gn/T/tmpm79uzwsl/var/folders/mw/nwq5qyg56fl585pb9jw81_qc0000gn/T/tmpm79uzwsl/src.macosx-10.15-x86_64-3.7\u001b[0m\n",
      "\u001b[39mcompile options: '-I/var/folders/mw/nwq5qyg56fl585pb9jw81_qc0000gn/T/tmpm79uzwsl/src.macosx-10.15-x86_64-3.7 -I/usr/local/lib/python3.7/site-packages/numpy/core/include -I/usr/local/include -I/usr/local/opt/openssl@1.1/include -I/usr/local/opt/sqlite/include -I/usr/local/Cellar/python/3.7.6_1/Frameworks/Python.framework/Versions/3.7/include/python3.7m -c'\u001b[0m\n",
      "\u001b[39mgcc-9: cfuncts.c\u001b[0m\n",
      "\u001b[39mgcc-9: /var/folders/mw/nwq5qyg56fl585pb9jw81_qc0000gn/T/tmpm79uzwsl/src.macosx-10.15-x86_64-3.7/cfunctsmodule.c\u001b[0m\n",
      "\u001b[39mgcc-9: /var/folders/mw/nwq5qyg56fl585pb9jw81_qc0000gn/T/tmpm79uzwsl/src.macosx-10.15-x86_64-3.7/fortranobject.c\u001b[0m\n",
      "In file included from \u001b[01m\u001b[K/usr/local/lib/python3.7/site-packages/numpy/core/include/numpy/ndarraytypes.h:1832\u001b[m\u001b[K,\n",
      "                 from \u001b[01m\u001b[K/usr/local/lib/python3.7/site-packages/numpy/core/include/numpy/ndarrayobject.h:12\u001b[m\u001b[K,\n",
      "                 from \u001b[01m\u001b[K/usr/local/lib/python3.7/site-packages/numpy/core/include/numpy/arrayobject.h:4\u001b[m\u001b[K,\n",
      "                 from \u001b[01m\u001b[K/var/folders/mw/nwq5qyg56fl585pb9jw81_qc0000gn/T/tmpm79uzwsl/src.macosx-10.15-x86_64-3.7/fortranobject.h:13\u001b[m\u001b[K,\n",
      "                 from \u001b[01m\u001b[K/var/folders/mw/nwq5qyg56fl585pb9jw81_qc0000gn/T/tmpm79uzwsl/src.macosx-10.15-x86_64-3.7/fortranobject.c:2\u001b[m\u001b[K:\n",
      "\u001b[01m\u001b[K/usr/local/lib/python3.7/site-packages/numpy/core/include/numpy/npy_1_7_deprecated_api.h:17:2:\u001b[m\u001b[K \u001b[01;35m\u001b[Kwarning: \u001b[m\u001b[K#warning \"Using deprecated NumPy API, disable it with \" \"#define NPY_NO_DEPRECATED_API NPY_1_7_API_VERSION\" [\u001b[01;35m\u001b[K-Wcpp\u001b[m\u001b[K]\n",
      "   17 | #\u001b[01;35m\u001b[Kwarning\u001b[m\u001b[K \"Using deprecated NumPy API, disable it with \" \\\n",
      "      |  \u001b[01;35m\u001b[K^~~~~~~\u001b[m\u001b[K\n",
      "In file included from \u001b[01m\u001b[K/usr/local/lib/python3.7/site-packages/numpy/core/include/numpy/ndarraytypes.h:1832\u001b[m\u001b[K,\n",
      "                 from \u001b[01m\u001b[K/usr/local/lib/python3.7/site-packages/numpy/core/include/numpy/ndarrayobject.h:12\u001b[m\u001b[K,\n",
      "                 from \u001b[01m\u001b[K/usr/local/lib/python3.7/site-packages/numpy/core/include/numpy/arrayobject.h:4\u001b[m\u001b[K,\n",
      "                 from \u001b[01m\u001b[K/var/folders/mw/nwq5qyg56fl585pb9jw81_qc0000gn/T/tmpm79uzwsl/src.macosx-10.15-x86_64-3.7/fortranobject.h:13\u001b[m\u001b[K,\n",
      "                 from \u001b[01m\u001b[K/var/folders/mw/nwq5qyg56fl585pb9jw81_qc0000gn/T/tmpm79uzwsl/src.macosx-10.15-x86_64-3.7/cfunctsmodule.c:16\u001b[m\u001b[K:\n",
      "\u001b[01m\u001b[K/usr/local/lib/python3.7/site-packages/numpy/core/include/numpy/npy_1_7_deprecated_api.h:17:2:\u001b[m\u001b[K \u001b[01;35m\u001b[Kwarning: \u001b[m\u001b[K#warning \"Using deprecated NumPy API, disable it with \" \"#define NPY_NO_DEPRECATED_API NPY_1_7_API_VERSION\" [\u001b[01;35m\u001b[K-Wcpp\u001b[m\u001b[K]\n",
      "   17 | #\u001b[01;35m\u001b[Kwarning\u001b[m\u001b[K \"Using deprecated NumPy API, disable it with \" \\\n",
      "      |  \u001b[01;35m\u001b[K^~~~~~~\u001b[m\u001b[K\n",
      "\u001b[01m\u001b[K/var/folders/mw/nwq5qyg56fl585pb9jw81_qc0000gn/T/tmpm79uzwsl/src.macosx-10.15-x86_64-3.7/cfunctsmodule.c:102:12:\u001b[m\u001b[K \u001b[01;35m\u001b[Kwarning: \u001b[m\u001b[K'\u001b[01m\u001b[Kf2py_size\u001b[m\u001b[K' defined but not used [\u001b[01;35m\u001b[K-Wunused-function\u001b[m\u001b[K]\n",
      "  102 | static int \u001b[01;35m\u001b[Kf2py_size\u001b[m\u001b[K(PyArrayObject* var, ...)\n",
      "      |            \u001b[01;35m\u001b[K^~~~~~~~~\u001b[m\u001b[K\n",
      "\u001b[39mgcc-9 -bundle -undefined dynamic_lookup -isysroot /Applications/Xcode.app/Contents/Developer/Platforms/MacOSX.platform/Developer/SDKs/MacOSX10.15.sdk /var/folders/mw/nwq5qyg56fl585pb9jw81_qc0000gn/T/tmpm79uzwsl/cfuncts.o /var/folders/mw/nwq5qyg56fl585pb9jw81_qc0000gn/T/tmpm79uzwsl/var/folders/mw/nwq5qyg56fl585pb9jw81_qc0000gn/T/tmpm79uzwsl/src.macosx-10.15-x86_64-3.7/cfunctsmodule.o /var/folders/mw/nwq5qyg56fl585pb9jw81_qc0000gn/T/tmpm79uzwsl/var/folders/mw/nwq5qyg56fl585pb9jw81_qc0000gn/T/tmpm79uzwsl/src.macosx-10.15-x86_64-3.7/fortranobject.o -L/usr/local/lib -L/usr/local/opt/openssl@1.1/lib -L/usr/local/opt/sqlite/lib -o ./cfuncts.cpython-37m-darwin.so\u001b[0m\n",
      "Removing build directory /var/folders/mw/nwq5qyg56fl585pb9jw81_qc0000gn/T/tmpm79uzwsl\n"
     ]
    }
   ],
   "source": [
    "%env FC=gfortran\n",
    "%env CC=gcc-9\n",
    "!f2py -c cfuncts.c cfuncts.pyf -m cfuncts"
   ]
  },
  {
   "cell_type": "code",
   "execution_count": 19,
   "metadata": {},
   "outputs": [],
   "source": [
    "import numpy as np\n",
    "import cfuncts"
   ]
  },
  {
   "cell_type": "code",
   "execution_count": 20,
   "metadata": {},
   "outputs": [
    {
     "name": "stdout",
     "output_type": "stream",
     "text": [
      "push_particles(positions,velocities,dt,[n])\n",
      "\n",
      "Wrapper for ``push_particles``.\n",
      "\n",
      "Parameters\n",
      "----------\n",
      "positions :  rank-1 array('d') with bounds (n)\n",
      "velocities : input rank-1 array('d') with bounds (n)\n",
      "dt : input float\n",
      "\n",
      "Other Parameters\n",
      "----------------\n",
      "n : input int, optional\n",
      "    Default: len(velocities)\n",
      "\n"
     ]
    }
   ],
   "source": [
    "print(cfuncts.push_particles.__doc__)"
   ]
  },
  {
   "cell_type": "code",
   "execution_count": 21,
   "metadata": {},
   "outputs": [],
   "source": [
    "n = 10\n",
    "dt = 0.1\n",
    "x = np.arange(n, dtype=\"d\")\n",
    "v = np.ones(n, dtype=\"d\")\n",
    "cfuncts.push_particles( x, v, dt)"
   ]
  },
  {
   "cell_type": "code",
   "execution_count": 22,
   "metadata": {},
   "outputs": [
    {
     "data": {
      "text/plain": [
       "array([0.1, 1.1, 2.1, 3.1, 4.1, 5.1, 6.1, 7.1, 8.1, 9.1])"
      ]
     },
     "execution_count": 22,
     "metadata": {},
     "output_type": "execute_result"
    }
   ],
   "source": [
    "x"
   ]
  },
  {
   "cell_type": "markdown",
   "metadata": {},
   "source": [
    "# References\n",
    " \n",
    "- f2py documentation https://docs.scipy.org/doc/numpy/f2py/\n",
    "- Transparents E. Sonnendrucker http://calcul.math.cnrs.fr/Documents/Journees/dec2006/python-fortran.pdf\n",
    "- Documentation Sagemath http://doc.sagemath.org/html/en/thematic_tutorials/numerical_sage/f2py.html\n",
    "- Hans Petter Langtangen : Python Scripting for Computational Science."
   ]
  },
  {
   "cell_type": "code",
   "execution_count": null,
   "metadata": {},
   "outputs": [],
   "source": []
  }
 ],
 "metadata": {
  "@webio": {
   "lastCommId": null,
   "lastKernelId": null
  },
  "jupytext": {
   "formats": "py:light,docs//ipynb"
  },
  "kernelspec": {
   "display_name": "Python 3",
   "language": "python",
   "name": "python3"
  },
  "language_info": {
   "codemirror_mode": {
    "name": "ipython",
    "version": 3
   },
   "file_extension": ".py",
   "mimetype": "text/x-python",
   "name": "python",
   "nbconvert_exporter": "python",
   "pygments_lexer": "ipython3",
   "version": "3.7.6"
  }
 },
 "nbformat": 4,
 "nbformat_minor": 4
}
